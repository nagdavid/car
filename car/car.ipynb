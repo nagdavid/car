{
  "cells": [
    {
      "cell_type": "code",
      "source": [
        "from google.colab import drive\n",
        "drive.mount('/content/drive')"
      ],
      "metadata": {
        "id": "pKlurVfS9RbX",
        "outputId": "48a76967-94b9-4564-c50a-f82a35c2ee54",
        "colab": {
          "base_uri": "https://localhost:8080/"
        }
      },
      "execution_count": 1,
      "outputs": [
        {
          "output_type": "stream",
          "name": "stdout",
          "text": [
            "Mounted at /content/drive\n"
          ]
        }
      ]
    },
    {
      "cell_type": "code",
      "source": [
        "import pandas as pd\n",
        "df=pd.read_csv(\"/content/drive/MyDrive/cars.csv\")\n"
      ],
      "metadata": {
        "id": "IYE36Snd95NI"
      },
      "execution_count": 2,
      "outputs": []
    },
    {
      "cell_type": "code",
      "source": [
        "print(df.head())"
      ],
      "metadata": {
        "id": "XZMc8hex-qZj",
        "outputId": "10d4ed48-54d8-4fd6-fa96-63d2e93ea273",
        "colab": {
          "base_uri": "https://localhost:8080/"
        }
      },
      "execution_count": 4,
      "outputs": [
        {
          "output_type": "stream",
          "name": "stdout",
          "text": [
            "    Make           Model   Type Origin DriveTrain      MSRP   Invoice  \\\n",
            "0  Acura             MDX    SUV   Asia        All  $36,945   $33,337    \n",
            "1  Acura  RSX Type S 2dr  Sedan   Asia      Front  $23,820   $21,761    \n",
            "2  Acura         TSX 4dr  Sedan   Asia      Front  $26,990   $24,647    \n",
            "3  Acura          TL 4dr  Sedan   Asia      Front  $33,195   $30,299    \n",
            "4  Acura      3.5 RL 4dr  Sedan   Asia      Front  $43,755   $39,014    \n",
            "\n",
            "   EngineSize  Cylinders  Horsepower  MPG_City  MPG_Highway  Weight  \\\n",
            "0         3.5        6.0       265.0      17.0         23.0  4451.0   \n",
            "1         2.0        4.0       200.0      24.0         31.0  2778.0   \n",
            "2         2.4        4.0       200.0      22.0         29.0  3230.0   \n",
            "3         3.2        6.0       270.0      20.0         28.0  3575.0   \n",
            "4         3.5        6.0       225.0      18.0         24.0  3880.0   \n",
            "\n",
            "   Wheelbase  Length  \n",
            "0      106.0   189.0  \n",
            "1      101.0   172.0  \n",
            "2      105.0   183.0  \n",
            "3      108.0   186.0  \n",
            "4      115.0   197.0  \n"
          ]
        }
      ]
    },
    {
      "cell_type": "code",
      "source": [
        "print(df.isnull().sum())\n"
      ],
      "metadata": {
        "id": "CqNQBM7l-wlA",
        "outputId": "ef029c19-93f7-4bd9-8407-bee8226210c2",
        "colab": {
          "base_uri": "https://localhost:8080/"
        }
      },
      "execution_count": 6,
      "outputs": [
        {
          "output_type": "stream",
          "name": "stdout",
          "text": [
            "Make           4\n",
            "Model          4\n",
            "Type           4\n",
            "Origin         4\n",
            "DriveTrain     4\n",
            "MSRP           4\n",
            "Invoice        4\n",
            "EngineSize     4\n",
            "Cylinders      6\n",
            "Horsepower     4\n",
            "MPG_City       4\n",
            "MPG_Highway    4\n",
            "Weight         4\n",
            "Wheelbase      4\n",
            "Length         4\n",
            "dtype: int64\n"
          ]
        }
      ]
    },
    {
      "cell_type": "code",
      "source": [
        "df.fillna(df.mean(), inplace=True)\n",
        "print(df.isnull().sum())"
      ],
      "metadata": {
        "id": "XL2PZE3Q-6bl",
        "outputId": "bad0a639-1030-4f73-9c30-191877384ce6",
        "colab": {
          "base_uri": "https://localhost:8080/"
        }
      },
      "execution_count": 8,
      "outputs": [
        {
          "output_type": "stream",
          "name": "stdout",
          "text": [
            "Make           4\n",
            "Model          4\n",
            "Type           4\n",
            "Origin         4\n",
            "DriveTrain     4\n",
            "MSRP           4\n",
            "Invoice        4\n",
            "EngineSize     0\n",
            "Cylinders      0\n",
            "Horsepower     0\n",
            "MPG_City       0\n",
            "MPG_Highway    0\n",
            "Weight         0\n",
            "Wheelbase      0\n",
            "Length         0\n",
            "dtype: int64\n"
          ]
        },
        {
          "output_type": "stream",
          "name": "stderr",
          "text": [
            "<ipython-input-8-0a51bc71922c>:1: FutureWarning: The default value of numeric_only in DataFrame.mean is deprecated. In a future version, it will default to False. In addition, specifying 'numeric_only=None' is deprecated. Select only valid columns or specify the value of numeric_only to silence this warning.\n",
            "  df.fillna(df.mean(), inplace=True)\n"
          ]
        }
      ]
    },
    {
      "cell_type": "code",
      "source": [
        "print(df['Make'].unique())\n"
      ],
      "metadata": {
        "id": "tDtxw5xS_LtF",
        "outputId": "df10fb57-d9b9-41f7-cdf4-152d9ddb3be7",
        "colab": {
          "base_uri": "https://localhost:8080/"
        }
      },
      "execution_count": 10,
      "outputs": [
        {
          "output_type": "stream",
          "name": "stdout",
          "text": [
            "['Acura' 'Audi' 'BMW' nan 'Buick' 'Cadillac' 'Chevrolet' 'Chrysler'\n",
            " 'Dodge' 'Ford' 'GMC' 'Honda' 'Hummer' 'Hyundai' 'Infiniti' 'Isuzu'\n",
            " 'Jaguar' 'Jeep' 'Kia' 'Land Rover' 'Lexus' 'Lincoln' 'MINI' 'Mazda'\n",
            " 'Mercedes-Benz' 'Mercury' 'Mitsubishi' 'Nissan' 'Oldsmobile' 'Pontiac'\n",
            " 'Porsche' 'Saab' 'Saturn' 'Scion' 'Subaru' 'Suzuki' 'Toyota' 'Volkswagen'\n",
            " 'Volvo']\n"
          ]
        }
      ]
    },
    {
      "cell_type": "code",
      "source": [
        "print(df['Make'].value_counts())"
      ],
      "metadata": {
        "id": "HFdVZ04H_WKz",
        "outputId": "b824073a-4f67-47ec-938a-8ffa8957033b",
        "colab": {
          "base_uri": "https://localhost:8080/"
        }
      },
      "execution_count": 12,
      "outputs": [
        {
          "output_type": "stream",
          "name": "stdout",
          "text": [
            "Toyota           28\n",
            "Chevrolet        27\n",
            "Mercedes-Benz    26\n",
            "Ford             23\n",
            "BMW              20\n",
            "Audi             19\n",
            "Honda            17\n",
            "Nissan           17\n",
            "Volkswagen       15\n",
            "Chrysler         15\n",
            "Dodge            13\n",
            "Mitsubishi       13\n",
            "Volvo            12\n",
            "Jaguar           12\n",
            "Hyundai          12\n",
            "Subaru           11\n",
            "Pontiac          11\n",
            "Mazda            11\n",
            "Lexus            11\n",
            "Kia              11\n",
            "Buick             9\n",
            "Mercury           9\n",
            "Lincoln           9\n",
            "Saturn            8\n",
            "Cadillac          8\n",
            "Suzuki            8\n",
            "Infiniti          8\n",
            "GMC               8\n",
            "Acura             7\n",
            "Porsche           7\n",
            "Saab              7\n",
            "Land Rover        3\n",
            "Oldsmobile        3\n",
            "Jeep              3\n",
            "Scion             2\n",
            "Isuzu             2\n",
            "MINI              2\n",
            "Hummer            1\n",
            "Name: Make, dtype: int64\n"
          ]
        }
      ]
    },
    {
      "cell_type": "code",
      "source": [
        "print(df[(df['Origin'] ==\"Aisa\")| (df['Origin']=='Europe')])"
      ],
      "metadata": {
        "id": "j9rcIbhq_kO1",
        "outputId": "5b3f05af-115a-4d46-fb19-ef4c85bb9e26",
        "colab": {
          "base_uri": "https://localhost:8080/"
        }
      },
      "execution_count": 16,
      "outputs": [
        {
          "output_type": "stream",
          "name": "stdout",
          "text": [
            "      Make                      Model   Type  Origin DriveTrain      MSRP  \\\n",
            "7     Audi                A4 1.8T 4dr  Sedan  Europe      Front  $25,940    \n",
            "8     Audi     A41.8T convertible 2dr  Sedan  Europe      Front  $35,940    \n",
            "9     Audi                 A4 3.0 4dr  Sedan  Europe      Front  $31,840    \n",
            "10    Audi  A4 3.0 Quattro 4dr manual  Sedan  Europe        All  $33,430    \n",
            "11    Audi    A4 3.0 Quattro 4dr auto  Sedan  Europe        All  $34,480    \n",
            "..     ...                        ...    ...     ...        ...       ...   \n",
            "427  Volvo    C70 LPT convertible 2dr  Sedan  Europe      Front  $40,565    \n",
            "428  Volvo    C70 HPT convertible 2dr  Sedan  Europe      Front  $42,565    \n",
            "429  Volvo                 S80 T6 4dr  Sedan  Europe      Front  $45,210    \n",
            "430  Volvo                        V40  Wagon  Europe      Front  $26,135    \n",
            "431  Volvo                       XC70  Wagon  Europe        All  $35,145    \n",
            "\n",
            "      Invoice  EngineSize  Cylinders  Horsepower  MPG_City  MPG_Highway  \\\n",
            "7    $23,508          1.8        4.0       170.0      22.0         31.0   \n",
            "8    $32,506          1.8        4.0       170.0      23.0         30.0   \n",
            "9    $28,846          3.0        6.0       220.0      20.0         28.0   \n",
            "10   $30,366          3.0        6.0       220.0      17.0         26.0   \n",
            "11   $31,388          3.0        6.0       220.0      18.0         25.0   \n",
            "..        ...         ...        ...         ...       ...          ...   \n",
            "427  $38,203          2.4        5.0       197.0      21.0         28.0   \n",
            "428  $40,083          2.3        5.0       242.0      20.0         26.0   \n",
            "429  $42,573          2.9        6.0       268.0      19.0         26.0   \n",
            "430  $24,641          1.9        4.0       170.0      22.0         29.0   \n",
            "431  $33,112          2.5        5.0       208.0      20.0         27.0   \n",
            "\n",
            "     Weight  Wheelbase  Length  \n",
            "7    3252.0      104.0   179.0  \n",
            "8    3638.0      105.0   180.0  \n",
            "9    3462.0      104.0   179.0  \n",
            "10   3583.0      104.0   179.0  \n",
            "11   3627.0      104.0   179.0  \n",
            "..      ...        ...     ...  \n",
            "427  3450.0      105.0   186.0  \n",
            "428  3450.0      105.0   186.0  \n",
            "429  3653.0      110.0   190.0  \n",
            "430  2822.0      101.0   180.0  \n",
            "431  3823.0      109.0   186.0  \n",
            "\n",
            "[123 rows x 15 columns]\n"
          ]
        }
      ]
    },
    {
      "cell_type": "code",
      "source": [
        "df = df[df['Weight'] <= 4000]"
      ],
      "metadata": {
        "id": "ZHRiDF_ZAaqP"
      },
      "execution_count": 19,
      "outputs": []
    },
    {
      "cell_type": "code",
      "source": [
        "df_copy = df.copy()\n",
        "df_copy['MPG_City'] += 3"
      ],
      "metadata": {
        "id": "Z8iHJKPkAnp1"
      },
      "execution_count": 23,
      "outputs": []
    },
    {
      "cell_type": "code",
      "source": [],
      "metadata": {
        "id": "xbtntiRgA2It"
      },
      "execution_count": null,
      "outputs": []
    }
  ],
  "metadata": {
    "colab": {
      "name": "Welcome to Colaboratory",
      "provenance": []
    },
    "kernelspec": {
      "display_name": "Python 3",
      "name": "python3"
    }
  },
  "nbformat": 4,
  "nbformat_minor": 0
}